{
 "cells": [
  {
   "cell_type": "markdown",
   "metadata": {},
   "source": [
    "# Scikit-learn-Knn"
   ]
  },
  {
   "cell_type": "markdown",
   "metadata": {},
   "source": [
    "### Knn: Is a nonparametric (does not fit the bellcurve) method used for classification and regression. This distance based model uses the user defined K to classify or predict."
   ]
  },
  {
   "cell_type": "markdown",
   "metadata": {},
   "source": [
    "### Knn Example: User sets K = 3 then based upon the distance measurement the model will output the most frequent classification or average the top three as the output."
   ]
  },
  {
   "cell_type": "code",
   "execution_count": 1,
   "metadata": {
    "collapsed": false
   },
   "outputs": [
    {
     "name": "stdout",
     "output_type": "stream",
     "text": [
      "height has been deprecated.\n",
      "\n"
     ]
    }
   ],
   "source": [
    "from IPython.display import Image\n",
    "from sklearn import neighbors\n",
    "import pandas as pd\n",
    "import math\n",
    "pd.set_option('display.height', 1000)\n",
    "pd.set_option('display.max_rows', 500)\n",
    "pd.set_option('display.max_columns', 500)\n",
    "pd.set_option('display.width', 1000)"
   ]
  },
  {
   "cell_type": "code",
   "execution_count": 2,
   "metadata": {
    "collapsed": false
   },
   "outputs": [
    {
     "data": {
      "image/png": "[encoded data removed]",
      "text/plain": [
       "<IPython.core.display.Image object>"
      ]
     },
     "execution_count": 2,
     "metadata": {},
     "output_type": "execute_result"
    }
   ],
   "source": [
    "Image(filename='F:\\\\Data\\\\Mini Data Requests\\\\KNN_similarity.png')"
   ]
  },
  {
   "cell_type": "code",
   "execution_count": 3,
   "metadata": {
    "collapsed": false
   },
   "outputs": [
    {
     "name": "stdout",
     "output_type": "stream",
     "text": [
      "   Sepal.Length  Sepal.Width  Petal.Length  Petal.Width Species\n",
      "0           5.1          3.5           1.4          0.2  setosa\n",
      "1           4.9          3.0           1.4          0.2  setosa\n",
      "2           4.7          3.2           1.3          0.2  setosa\n",
      "3           4.6          3.1           1.5          0.2  setosa\n",
      "4           5.0          3.6           1.4          0.2  setosa\n"
     ]
    }
   ],
   "source": [
    "Iris = pd.read_csv('R:\\\\Data\\\\cs\\\\Advanced Metering\\\\CHM\\\\PsuedoDataForCode\\\\Iris.csv')\n",
    "print(Iris.head(5))"
   ]
  },
  {
   "cell_type": "code",
   "execution_count": 4,
   "metadata": {
    "collapsed": false
   },
   "outputs": [
    {
     "name": "stdout",
     "output_type": "stream",
     "text": [
      "   Sepal.Length  Sepal.Width  Petal.Length  Petal.Width Species\n",
      "0           5.1          3.5           1.4          0.2  setosa\n"
     ]
    }
   ],
   "source": [
    "X = Iris.head(1)\n",
    "print(X)"
   ]
  },
  {
   "cell_type": "code",
   "execution_count": 5,
   "metadata": {
    "collapsed": false
   },
   "outputs": [
    {
     "name": "stderr",
     "output_type": "stream",
     "text": [
      "C:\\Users\\w47593\\AppData\\Local\\Continuum\\Anaconda\\lib\\site-packages\\IPython\\kernel\\__main__.py:4: SettingWithCopyWarning: \n",
      "A value is trying to be set on a copy of a slice from a DataFrame\n",
      "\n",
      "See the the caveats in the documentation: http://pandas.pydata.org/pandas-docs/stable/indexing.html#indexing-view-versus-copy\n"
     ]
    }
   ],
   "source": [
    "Iris['EuclideanDistance'] = ''\n",
    "\n",
    "for i in range(0,len(Iris)):\n",
    "    Iris['EuclideanDistance'][i] =  (X.values[0,0] - Iris.values[i,0])**2 + (X.values[0,1] - Iris.values[i,1])**2 + (X.values[0,2] - Iris.values[i,2])**2 + (X.values[0,3] - Iris.values[i,3])**2"
   ]
  },
  {
   "cell_type": "code",
   "execution_count": 6,
   "metadata": {
    "collapsed": false
   },
   "outputs": [
    {
     "name": "stderr",
     "output_type": "stream",
     "text": [
      "C:\\Users\\w47593\\AppData\\Local\\Continuum\\Anaconda\\lib\\site-packages\\IPython\\kernel\\__main__.py:4: SettingWithCopyWarning: \n",
      "A value is trying to be set on a copy of a slice from a DataFrame\n",
      "\n",
      "See the the caveats in the documentation: http://pandas.pydata.org/pandas-docs/stable/indexing.html#indexing-view-versus-copy\n"
     ]
    }
   ],
   "source": [
    "Iris['ManhattanDistance'] = ''\n",
    "# Math.Fabs = Absoulute value\n",
    "for i in range(0,len(Iris)):\n",
    "    Iris['ManhattanDistance'][i] =  math.fabs((X.values[0,0] - Iris.values[i,0])) + math.fabs((X.values[0,1] - Iris.values[i,1])) + math.fabs((X.values[0,2] - Iris.values[i,2])) + math.fabs((X.values[0,3] - Iris.values[i,3]))\n"
   ]
  },
  {
   "cell_type": "markdown",
   "metadata": {},
   "source": [
    "#### Minkowski distance is a littler different where q = 1 is for a city block, q = 2 is for euclidean distance"
   ]
  },
  {
   "cell_type": "code",
   "execution_count": 7,
   "metadata": {
    "collapsed": false
   },
   "outputs": [
    {
     "name": "stdout",
     "output_type": "stream",
     "text": [
      "    Sepal.Length  Sepal.Width  Petal.Length  Petal.Width Species EuclideanDistance ManhattanDistance\n",
      "0            5.1          3.5           1.4          0.2  setosa                 0                 0\n",
      "17           5.1          3.5           1.4          0.3  setosa              0.01               0.1\n",
      "4            5.0          3.6           1.4          0.2  setosa              0.02               0.2\n",
      "39           5.1          3.4           1.5          0.2  setosa              0.02               0.2\n",
      "27           5.2          3.5           1.5          0.2  setosa              0.02               0.2\n",
      "28           5.2          3.4           1.4          0.2  setosa              0.02               0.2\n",
      "40           5.0          3.5           1.3          0.3  setosa              0.03               0.3\n",
      "7            5.0          3.4           1.5          0.2  setosa              0.03               0.3\n",
      "49           5.0          3.3           1.4          0.2  setosa              0.05               0.3\n",
      "37           4.9          3.6           1.4          0.1  setosa              0.06               0.4\n"
     ]
    }
   ],
   "source": [
    "Iris = Iris.sort(['EuclideanDistance'], ascending=[True])\n",
    "print(Iris.head(10))\n"
   ]
  },
  {
   "cell_type": "markdown",
   "metadata": {},
   "source": [
    "# Using Scikit-learn-Knn For Classification"
   ]
  },
  {
   "cell_type": "code",
   "execution_count": 8,
   "metadata": {
    "collapsed": false
   },
   "outputs": [],
   "source": [
    "# Read in File\n",
    "Iris = pd.read_csv('R:\\\\Data\\\\cs\\\\Advanced Metering\\\\CHM\\\\PsuedoDataForCode\\\\Iris.csv')\n",
    "\n",
    "# Set Features\n",
    "X = Iris[Iris.columns[0:4]]\n",
    "\n",
    "# Convert to factor and retrieve Class name\n",
    "Y, _ = pd.factorize(Iris['Species'])\n",
    "ClassNames = pd.factorize(Iris['Species'])\n",
    "\n"
   ]
  },
  {
   "cell_type": "code",
   "execution_count": 9,
   "metadata": {
    "collapsed": false
   },
   "outputs": [],
   "source": [
    "# KNN Model\n",
    "knn = neighbors.KNeighborsClassifier()\n",
    "knn.fit(X, Y)\n",
    "\n",
    "# Append and Predict Data\n",
    "rows_list = [] \n",
    "for x in range(0, 150):\n",
    "    #print(knn.predict(X.iloc[x]))\n",
    "    rows_list.append(ClassNames[1][knn.predict(X.iloc[x])])\n",
    "\n"
   ]
  },
  {
   "cell_type": "code",
   "execution_count": 10,
   "metadata": {
    "collapsed": false
   },
   "outputs": [],
   "source": [
    "# Convert rows_list to DataFrame    \n",
    "df = pd.DataFrame(rows_list) \n",
    "df =df.reset_index()\n",
    "df.columns = ['index', 'PredictedValue']\n",
    "\n",
    "# Merge Data and Pred Data Together\n",
    "Iris =Iris.reset_index()\n",
    "merged = Iris.merge(df,on='index') \n",
    "\n"
   ]
  },
  {
   "cell_type": "code",
   "execution_count": 11,
   "metadata": {
    "collapsed": false
   },
   "outputs": [
    {
     "data": {
      "text/html": [
       "<div style=\"max-height:1000px;max-width:1500px;overflow:auto;\">\n",
       "<table border=\"1\" class=\"dataframe\">\n",
       "  <thead>\n",
       "    <tr style=\"text-align: right;\">\n",
       "      <th>PredictedValue</th>\n",
       "      <th>setosa</th>\n",
       "      <th>versicolor</th>\n",
       "      <th>virginica</th>\n",
       "    </tr>\n",
       "    <tr>\n",
       "      <th>Species</th>\n",
       "      <th></th>\n",
       "      <th></th>\n",
       "      <th></th>\n",
       "    </tr>\n",
       "  </thead>\n",
       "  <tbody>\n",
       "    <tr>\n",
       "      <th>setosa</th>\n",
       "      <td> 1</td>\n",
       "      <td> 0.00</td>\n",
       "      <td> 0.00</td>\n",
       "    </tr>\n",
       "    <tr>\n",
       "      <th>versicolor</th>\n",
       "      <td> 0</td>\n",
       "      <td> 0.94</td>\n",
       "      <td> 0.06</td>\n",
       "    </tr>\n",
       "    <tr>\n",
       "      <th>virginica</th>\n",
       "      <td> 0</td>\n",
       "      <td> 0.04</td>\n",
       "      <td> 0.96</td>\n",
       "    </tr>\n",
       "  </tbody>\n",
       "</table>\n",
       "</div>"
      ],
      "text/plain": [
       "PredictedValue  setosa  versicolor  virginica\n",
       "Species                                      \n",
       "setosa               1        0.00       0.00\n",
       "versicolor           0        0.94       0.06\n",
       "virginica            0        0.04       0.96"
      ]
     },
     "execution_count": 11,
     "metadata": {},
     "output_type": "execute_result"
    }
   ],
   "source": [
    "# Confusion Matrix \n",
    "pd.crosstab(merged.Species, merged.PredictedValue).apply(lambda r: r/r.sum(), axis=1)\n"
   ]
  }
 ],
 "metadata": {
  "kernelspec": {
   "display_name": "Python 2",
   "language": "python",
   "name": "python2"
  },
  "language_info": {
   "codemirror_mode": {
    "name": "ipython",
    "version": 2
   },
   "file_extension": ".py",
   "mimetype": "text/x-python",
   "name": "python",
   "nbconvert_exporter": "python",
   "pygments_lexer": "ipython2",
   "version": "2.7.8"
  }
 },
 "nbformat": 4,
 "nbformat_minor": 0
}
