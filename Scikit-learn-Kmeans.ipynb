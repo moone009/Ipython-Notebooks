{
 "cells": [
  {
   "cell_type": "markdown",
   "metadata": {},
   "source": [
    "# Scikit-learn-Kmeans"
   ]
  },
  {
   "cell_type": "markdown",
   "metadata": {},
   "source": [
    "### Kmeans: Is a partioning method that partions data into mutually exclusivbe clusters and returns the index of the cluster to each data point."
   ]
  },
  {
   "cell_type": "markdown",
   "metadata": {},
   "source": [
    "### The goal of Kmeans is to reduce the sum of squares within the groups."
   ]
  },
  {
   "cell_type": "markdown",
   "metadata": {},
   "source": [
    "### If you are using this for marketing segmentation it is then your job to develop meaning behind the clusters. Example: if Kmeans outputted four segments and one of the segments had a high proportion of online customers you might name this segment \"Tech Savy\""
   ]
  },
  {
   "cell_type": "code",
   "execution_count": 1,
   "metadata": {
    "collapsed": false
   },
   "outputs": [],
   "source": [
    "from sklearn.cluster import KMeans\n",
    "import pandas as pd\n",
    "import matplotlib.pyplot as plt \n",
    "pd.set_option('display.max_rows', 500)\n",
    "pd.set_option('display.max_columns', 500)\n",
    "pd.set_option('display.width', 1000)"
   ]
  },
  {
   "cell_type": "code",
   "execution_count": 2,
   "metadata": {
    "collapsed": false
   },
   "outputs": [],
   "source": [
    "# Read in File\n",
    "Iris = pd.read_csv('R:\\\\Data\\\\cs\\\\Advanced Metering\\\\CHM\\\\PsuedoDataForCode\\\\Iris.csv')\n",
    "\n",
    "# Set Features\n",
    "X = Iris[Iris.columns[0:4]]\n",
    "\n",
    "# Convert to factor and retrieve Class name\n",
    "Y, _ = pd.factorize(Iris['Species'])\n",
    "ClassNames = pd.factorize(Iris['Species'])"
   ]
  },
  {
   "cell_type": "code",
   "execution_count": 3,
   "metadata": {
    "collapsed": false
   },
   "outputs": [
    {
     "name": "stdout",
     "output_type": "stream",
     "text": [
      "Sum of squares\n",
      "681.3706\n",
      "152.34795176\n",
      "78.8514414261\n",
      "57.2284732143\n",
      "46.4461820513\n",
      "39.0399872461\n",
      "34.4090097403\n"
     ]
    }
   ],
   "source": [
    "li = []\n",
    "cl = []\n",
    "print \"Sum of squares\"\n",
    "for i in range(1,8):\n",
    "    k_means = KMeans(n_clusters=i)\n",
    "    k_means.fit(X) \n",
    "    print(k_means.inertia_) \n",
    "    li.append(k_means.inertia_)\n",
    "    cl.append('cluster:'+str(i))"
   ]
  },
  {
   "cell_type": "code",
   "execution_count": 4,
   "metadata": {
    "collapsed": false
   },
   "outputs": [],
   "source": [
    "df = pd.DataFrame(li)\n",
    "df.columns = ['Sum Squares']\n",
    "cl = pd.DataFrame(cl)\n",
    "cl.columns = ['Clusters']\n",
    " \n",
    "cl.reset_index(inplace=True)\n",
    "df.reset_index(inplace=True)\n",
    " \n",
    " \n",
    "data = pd.merge(cl, df, on='index')\n",
    "data = data.drop('index', 1)"
   ]
  },
  {
   "cell_type": "code",
   "execution_count": 5,
   "metadata": {
    "collapsed": false
   },
   "outputs": [
    {
     "data": {
      "image/png": "[encoded data removed]",
      "text/plain": [
       "<matplotlib.figure.Figure at 0x196d9978>"
      ]
     },
     "metadata": {},
     "output_type": "display_data"
    }
   ],
   "source": [
    "%matplotlib  inline\n",
    "data.plot('Clusters','Sum Squares',legend = None)\n",
    "plt.legend(data[[1]], loc='best')\n",
    "plt.xticks(rotation=45);"
   ]
  }
 ],
 "metadata": {
  "kernelspec": {
   "display_name": "Python 2",
   "language": "python",
   "name": "python2"
  },
  "language_info": {
   "codemirror_mode": {
    "name": "ipython",
    "version": 2
   },
   "file_extension": ".py",
   "mimetype": "text/x-python",
   "name": "python",
   "nbconvert_exporter": "python",
   "pygments_lexer": "ipython2",
   "version": "2.7.8"
  }
 },
 "nbformat": 4,
 "nbformat_minor": 0
}
