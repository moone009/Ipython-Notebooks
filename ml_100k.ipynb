{
 "cells": [
  {
   "cell_type": "code",
   "execution_count": 34,
   "metadata": {
    "collapsed": false
   },
   "outputs": [],
   "source": [
    "import pandas as pd\n",
    "import numpy as np\n",
    "# import the functions for cosine distance, euclidean distance, and the correlation distance\n",
    "from scipy.spatial.distance import cosine, euclidean, correlation"
   ]
  },
  {
   "cell_type": "markdown",
   "metadata": {},
   "source": [
    "#### Import data from a text file (tab delimited)"
   ]
  },
  {
   "cell_type": "code",
   "execution_count": 35,
   "metadata": {
    "collapsed": false
   },
   "outputs": [
    {
     "data": {
      "text/html": [
       "<div style=\"max-height:1000px;max-width:1500px;overflow:auto;\">\n",
       "<table border=\"1\" class=\"dataframe\">\n",
       "  <thead>\n",
       "    <tr style=\"text-align: right;\">\n",
       "      <th></th>\n",
       "      <th>user</th>\n",
       "      <th>item</th>\n",
       "      <th>rating</th>\n",
       "    </tr>\n",
       "  </thead>\n",
       "  <tbody>\n",
       "    <tr>\n",
       "      <th>0</th>\n",
       "      <td> 196</td>\n",
       "      <td> 242</td>\n",
       "      <td> 3</td>\n",
       "    </tr>\n",
       "    <tr>\n",
       "      <th>1</th>\n",
       "      <td> 186</td>\n",
       "      <td> 302</td>\n",
       "      <td> 3</td>\n",
       "    </tr>\n",
       "    <tr>\n",
       "      <th>2</th>\n",
       "      <td>  22</td>\n",
       "      <td> 377</td>\n",
       "      <td> 1</td>\n",
       "    </tr>\n",
       "    <tr>\n",
       "      <th>3</th>\n",
       "      <td> 244</td>\n",
       "      <td>  51</td>\n",
       "      <td> 2</td>\n",
       "    </tr>\n",
       "    <tr>\n",
       "      <th>4</th>\n",
       "      <td> 166</td>\n",
       "      <td> 346</td>\n",
       "      <td> 1</td>\n",
       "    </tr>\n",
       "  </tbody>\n",
       "</table>\n",
       "</div>"
      ],
      "text/plain": [
       "   user  item  rating\n",
       "0   196   242       3\n",
       "1   186   302       3\n",
       "2    22   377       1\n",
       "3   244    51       2\n",
       "4   166   346       1"
      ]
     },
     "execution_count": 35,
     "metadata": {},
     "output_type": "execute_result"
    }
   ],
   "source": [
    "df_data1 = pd.read_csv(\"D:\\\\_Download\\\\ml-100k\\\\ml-100k\\\\u.data\", # the location to the data file\n",
    "                       sep=\"\\t\", # for tab delimited documents, use \"\\t\" as the seperator\n",
    "                       names=[\"user\", \"item\", \"rating\", \"time\" ] # define the names for the four columns\n",
    "                       )\n",
    "df_data1.__delitem__(\"time\")\n",
    "df_data1.head()"
   ]
  },
  {
   "cell_type": "markdown",
   "metadata": {},
   "source": [
    "#### Examining the numbers of ratings, unique users, and unique items"
   ]
  },
  {
   "cell_type": "code",
   "execution_count": 36,
   "metadata": {
    "collapsed": false
   },
   "outputs": [
    {
     "name": "stdout",
     "output_type": "stream",
     "text": [
      "Ratings: 100000\n",
      "Unique users: 943\n",
      "Unique items: 1682\n"
     ]
    }
   ],
   "source": [
    "# df_data1[\"user\"].unique() returns the unique values in the \"user\" column\n",
    "# the len function returns the length of a list-like object\n",
    "print \"Ratings: %d\" % len(df_data1)\n",
    "print \"Unique users: %d\" % len(df_data1[\"user\"].unique())\n",
    "print \"Unique items: %d\" % len(df_data1[\"item\"].unique())"
   ]
  },
  {
   "cell_type": "markdown",
   "metadata": {},
   "source": [
    "#### Rank items based on rating frequency"
   ]
  },
  {
   "cell_type": "code",
   "execution_count": 37,
   "metadata": {
    "collapsed": false
   },
   "outputs": [
    {
     "data": {
      "text/html": [
       "<div style=\"max-height:1000px;max-width:1500px;overflow:auto;\">\n",
       "<table border=\"1\" class=\"dataframe\">\n",
       "  <thead>\n",
       "    <tr style=\"text-align: right;\">\n",
       "      <th></th>\n",
       "      <th>user</th>\n",
       "      <th>rating</th>\n",
       "    </tr>\n",
       "    <tr>\n",
       "      <th>item</th>\n",
       "      <th></th>\n",
       "      <th></th>\n",
       "    </tr>\n",
       "  </thead>\n",
       "  <tbody>\n",
       "    <tr>\n",
       "      <th>50 </th>\n",
       "      <td> 583</td>\n",
       "      <td> 583</td>\n",
       "    </tr>\n",
       "    <tr>\n",
       "      <th>258</th>\n",
       "      <td> 509</td>\n",
       "      <td> 509</td>\n",
       "    </tr>\n",
       "    <tr>\n",
       "      <th>100</th>\n",
       "      <td> 508</td>\n",
       "      <td> 508</td>\n",
       "    </tr>\n",
       "    <tr>\n",
       "      <th>181</th>\n",
       "      <td> 507</td>\n",
       "      <td> 507</td>\n",
       "    </tr>\n",
       "    <tr>\n",
       "      <th>294</th>\n",
       "      <td> 485</td>\n",
       "      <td> 485</td>\n",
       "    </tr>\n",
       "  </tbody>\n",
       "</table>\n",
       "</div>"
      ],
      "text/plain": [
       "      user  rating\n",
       "item              \n",
       "50     583     583\n",
       "258    509     509\n",
       "100    508     508\n",
       "181    507     507\n",
       "294    485     485"
      ]
     },
     "execution_count": 37,
     "metadata": {},
     "output_type": "execute_result"
    }
   ],
   "source": [
    "df_item_freq = df_data1.groupby(\"item\").count()\n",
    "df_item_freq.sort(\"rating\", ascending=False).head()"
   ]
  },
  {
   "cell_type": "markdown",
   "metadata": {},
   "source": [
    "#### See the ratings of a given user"
   ]
  },
  {
   "cell_type": "code",
   "execution_count": 38,
   "metadata": {
    "collapsed": false
   },
   "outputs": [
    {
     "data": {
      "text/html": [
       "<div style=\"max-height:1000px;max-width:1500px;overflow:auto;\">\n",
       "<table border=\"1\" class=\"dataframe\">\n",
       "  <thead>\n",
       "    <tr style=\"text-align: right;\">\n",
       "      <th></th>\n",
       "      <th>user</th>\n",
       "      <th>item</th>\n",
       "      <th>rating</th>\n",
       "    </tr>\n",
       "  </thead>\n",
       "  <tbody>\n",
       "    <tr>\n",
       "      <th>44156</th>\n",
       "      <td> 700</td>\n",
       "      <td> 181</td>\n",
       "      <td> 5</td>\n",
       "    </tr>\n",
       "    <tr>\n",
       "      <th>45111</th>\n",
       "      <td> 700</td>\n",
       "      <td> 144</td>\n",
       "      <td> 4</td>\n",
       "    </tr>\n",
       "    <tr>\n",
       "      <th>48649</th>\n",
       "      <td> 700</td>\n",
       "      <td>  96</td>\n",
       "      <td> 4</td>\n",
       "    </tr>\n",
       "    <tr>\n",
       "      <th>54761</th>\n",
       "      <td> 700</td>\n",
       "      <td>  50</td>\n",
       "      <td> 5</td>\n",
       "    </tr>\n",
       "    <tr>\n",
       "      <th>56278</th>\n",
       "      <td> 700</td>\n",
       "      <td>  79</td>\n",
       "      <td> 3</td>\n",
       "    </tr>\n",
       "    <tr>\n",
       "      <th>57109</th>\n",
       "      <td> 700</td>\n",
       "      <td> 180</td>\n",
       "      <td> 3</td>\n",
       "    </tr>\n",
       "    <tr>\n",
       "      <th>58231</th>\n",
       "      <td> 700</td>\n",
       "      <td> 168</td>\n",
       "      <td> 3</td>\n",
       "    </tr>\n",
       "    <tr>\n",
       "      <th>68043</th>\n",
       "      <td> 700</td>\n",
       "      <td>  28</td>\n",
       "      <td> 3</td>\n",
       "    </tr>\n",
       "    <tr>\n",
       "      <th>68705</th>\n",
       "      <td> 700</td>\n",
       "      <td> 222</td>\n",
       "      <td> 3</td>\n",
       "    </tr>\n",
       "    <tr>\n",
       "      <th>70497</th>\n",
       "      <td> 700</td>\n",
       "      <td> 531</td>\n",
       "      <td> 4</td>\n",
       "    </tr>\n",
       "    <tr>\n",
       "      <th>71210</th>\n",
       "      <td> 700</td>\n",
       "      <td> 318</td>\n",
       "      <td> 4</td>\n",
       "    </tr>\n",
       "    <tr>\n",
       "      <th>71494</th>\n",
       "      <td> 700</td>\n",
       "      <td> 423</td>\n",
       "      <td> 4</td>\n",
       "    </tr>\n",
       "    <tr>\n",
       "      <th>72499</th>\n",
       "      <td> 700</td>\n",
       "      <td> 169</td>\n",
       "      <td> 3</td>\n",
       "    </tr>\n",
       "    <tr>\n",
       "      <th>72618</th>\n",
       "      <td> 700</td>\n",
       "      <td>  73</td>\n",
       "      <td> 3</td>\n",
       "    </tr>\n",
       "    <tr>\n",
       "      <th>75624</th>\n",
       "      <td> 700</td>\n",
       "      <td> 174</td>\n",
       "      <td> 4</td>\n",
       "    </tr>\n",
       "    <tr>\n",
       "      <th>79542</th>\n",
       "      <td> 700</td>\n",
       "      <td> 173</td>\n",
       "      <td> 5</td>\n",
       "    </tr>\n",
       "    <tr>\n",
       "      <th>82979</th>\n",
       "      <td> 700</td>\n",
       "      <td>  48</td>\n",
       "      <td> 4</td>\n",
       "    </tr>\n",
       "    <tr>\n",
       "      <th>84552</th>\n",
       "      <td> 700</td>\n",
       "      <td> 202</td>\n",
       "      <td> 3</td>\n",
       "    </tr>\n",
       "    <tr>\n",
       "      <th>88884</th>\n",
       "      <td> 700</td>\n",
       "      <td>  56</td>\n",
       "      <td> 3</td>\n",
       "    </tr>\n",
       "    <tr>\n",
       "      <th>92063</th>\n",
       "      <td> 700</td>\n",
       "      <td> 651</td>\n",
       "      <td> 4</td>\n",
       "    </tr>\n",
       "    <tr>\n",
       "      <th>94630</th>\n",
       "      <td> 700</td>\n",
       "      <td>  98</td>\n",
       "      <td> 3</td>\n",
       "    </tr>\n",
       "  </tbody>\n",
       "</table>\n",
       "</div>"
      ],
      "text/plain": [
       "       user  item  rating\n",
       "44156   700   181       5\n",
       "45111   700   144       4\n",
       "48649   700    96       4\n",
       "54761   700    50       5\n",
       "56278   700    79       3\n",
       "57109   700   180       3\n",
       "58231   700   168       3\n",
       "68043   700    28       3\n",
       "68705   700   222       3\n",
       "70497   700   531       4\n",
       "71210   700   318       4\n",
       "71494   700   423       4\n",
       "72499   700   169       3\n",
       "72618   700    73       3\n",
       "75624   700   174       4\n",
       "79542   700   173       5\n",
       "82979   700    48       4\n",
       "84552   700   202       3\n",
       "88884   700    56       3\n",
       "92063   700   651       4\n",
       "94630   700    98       3"
      ]
     },
     "execution_count": 38,
     "metadata": {},
     "output_type": "execute_result"
    }
   ],
   "source": [
    "df_data1[df_data1[\"user\"]==700]"
   ]
  },
  {
   "cell_type": "markdown",
   "metadata": {},
   "source": [
    "#### See the average rating of a item"
   ]
  },
  {
   "cell_type": "code",
   "execution_count": 39,
   "metadata": {
    "collapsed": false
   },
   "outputs": [
    {
     "data": {
      "text/plain": [
       "4.3584905660377355"
      ]
     },
     "execution_count": 39,
     "metadata": {},
     "output_type": "execute_result"
    }
   ],
   "source": [
    "# df_data1[df_data1[\"item\"]==50] selects all row with item=50\n",
    "# the mean() method calculates the mean (average) of the \"rating\" column of the selected rows\n",
    "df_data1[df_data1[\"item\"]==50][\"rating\"].mean()"
   ]
  },
  {
   "cell_type": "markdown",
   "metadata": {},
   "source": [
    "### Convert the user-item-rating list to a dense matrix"
   ]
  },
  {
   "cell_type": "markdown",
   "metadata": {},
   "source": [
    "<p><b>Construct a pivot table in which the rows represent users and the columns represent items</b>\n",
    "<li>the <font color=blue>values</font> argument specifies what values are to be aggregated in the pivot table</li>\n",
    "<li>the <font color=blue>rows</font> argument specifies which column(s) in the original data frame is to be used as the row(s) in the pivot table</li>\n",
    "<li>the <font color=blue>columns</font> argument specifies which column(s) in the original data frame is to be used as the column(s) in the pivot table</li>\n",
    "<li>this pivot table is the same as a <i>dense matrix</i>, in which the elements are ratings. </li></p>\n",
    "<p>In a dense matrix representation, each value is explicitly recorded. In a sparse matrix representation, only non-zero (or non-missing) values are recorded. If you have an enterprise scale dataset (e.g. all user-item ratings on Amazon), the dense matrix will not fit into memory. We will discuss possible alternatives in the lecture on Mining Big Data. Now we just learn to walk before we can run.</p>"
   ]
  },
  {
   "cell_type": "code",
   "execution_count": 81,
   "metadata": {
    "collapsed": false
   },
   "outputs": [
    {
     "name": "stdout",
     "output_type": "stream",
     "text": [
      "Shape of the user-item matrix: 943 x 1682\n"
     ]
    },
    {
     "data": {
      "text/html": [
       "<div style=\"max-height:1000px;max-width:1500px;overflow:auto;\">\n",
       "<table border=\"1\" class=\"dataframe\">\n",
       "  <thead>\n",
       "    <tr style=\"text-align: right;\">\n",
       "      <th>item</th>\n",
       "      <th>1</th>\n",
       "      <th>2</th>\n",
       "      <th>3</th>\n",
       "      <th>4</th>\n",
       "      <th>5</th>\n",
       "      <th>6</th>\n",
       "      <th>7</th>\n",
       "      <th>8</th>\n",
       "      <th>9</th>\n",
       "      <th>10</th>\n",
       "      <th>...</th>\n",
       "      <th>1673</th>\n",
       "      <th>1674</th>\n",
       "      <th>1675</th>\n",
       "      <th>1676</th>\n",
       "      <th>1677</th>\n",
       "      <th>1678</th>\n",
       "      <th>1679</th>\n",
       "      <th>1680</th>\n",
       "      <th>1681</th>\n",
       "      <th>1682</th>\n",
       "    </tr>\n",
       "    <tr>\n",
       "      <th>user</th>\n",
       "      <th></th>\n",
       "      <th></th>\n",
       "      <th></th>\n",
       "      <th></th>\n",
       "      <th></th>\n",
       "      <th></th>\n",
       "      <th></th>\n",
       "      <th></th>\n",
       "      <th></th>\n",
       "      <th></th>\n",
       "      <th></th>\n",
       "      <th></th>\n",
       "      <th></th>\n",
       "      <th></th>\n",
       "      <th></th>\n",
       "      <th></th>\n",
       "      <th></th>\n",
       "      <th></th>\n",
       "      <th></th>\n",
       "      <th></th>\n",
       "      <th></th>\n",
       "    </tr>\n",
       "  </thead>\n",
       "  <tbody>\n",
       "    <tr>\n",
       "      <th>1</th>\n",
       "      <td>  5</td>\n",
       "      <td>  3</td>\n",
       "      <td>  4</td>\n",
       "      <td>  3</td>\n",
       "      <td>  3</td>\n",
       "      <td>  5</td>\n",
       "      <td>  4</td>\n",
       "      <td>  1</td>\n",
       "      <td>  5</td>\n",
       "      <td>  3</td>\n",
       "      <td>...</td>\n",
       "      <td>NaN</td>\n",
       "      <td>NaN</td>\n",
       "      <td>NaN</td>\n",
       "      <td>NaN</td>\n",
       "      <td>NaN</td>\n",
       "      <td>NaN</td>\n",
       "      <td>NaN</td>\n",
       "      <td>NaN</td>\n",
       "      <td>NaN</td>\n",
       "      <td>NaN</td>\n",
       "    </tr>\n",
       "    <tr>\n",
       "      <th>2</th>\n",
       "      <td>  4</td>\n",
       "      <td>NaN</td>\n",
       "      <td>NaN</td>\n",
       "      <td>NaN</td>\n",
       "      <td>NaN</td>\n",
       "      <td>NaN</td>\n",
       "      <td>NaN</td>\n",
       "      <td>NaN</td>\n",
       "      <td>NaN</td>\n",
       "      <td>  2</td>\n",
       "      <td>...</td>\n",
       "      <td>NaN</td>\n",
       "      <td>NaN</td>\n",
       "      <td>NaN</td>\n",
       "      <td>NaN</td>\n",
       "      <td>NaN</td>\n",
       "      <td>NaN</td>\n",
       "      <td>NaN</td>\n",
       "      <td>NaN</td>\n",
       "      <td>NaN</td>\n",
       "      <td>NaN</td>\n",
       "    </tr>\n",
       "    <tr>\n",
       "      <th>3</th>\n",
       "      <td>NaN</td>\n",
       "      <td>NaN</td>\n",
       "      <td>NaN</td>\n",
       "      <td>NaN</td>\n",
       "      <td>NaN</td>\n",
       "      <td>NaN</td>\n",
       "      <td>NaN</td>\n",
       "      <td>NaN</td>\n",
       "      <td>NaN</td>\n",
       "      <td>NaN</td>\n",
       "      <td>...</td>\n",
       "      <td>NaN</td>\n",
       "      <td>NaN</td>\n",
       "      <td>NaN</td>\n",
       "      <td>NaN</td>\n",
       "      <td>NaN</td>\n",
       "      <td>NaN</td>\n",
       "      <td>NaN</td>\n",
       "      <td>NaN</td>\n",
       "      <td>NaN</td>\n",
       "      <td>NaN</td>\n",
       "    </tr>\n",
       "    <tr>\n",
       "      <th>4</th>\n",
       "      <td>NaN</td>\n",
       "      <td>NaN</td>\n",
       "      <td>NaN</td>\n",
       "      <td>NaN</td>\n",
       "      <td>NaN</td>\n",
       "      <td>NaN</td>\n",
       "      <td>NaN</td>\n",
       "      <td>NaN</td>\n",
       "      <td>NaN</td>\n",
       "      <td>NaN</td>\n",
       "      <td>...</td>\n",
       "      <td>NaN</td>\n",
       "      <td>NaN</td>\n",
       "      <td>NaN</td>\n",
       "      <td>NaN</td>\n",
       "      <td>NaN</td>\n",
       "      <td>NaN</td>\n",
       "      <td>NaN</td>\n",
       "      <td>NaN</td>\n",
       "      <td>NaN</td>\n",
       "      <td>NaN</td>\n",
       "    </tr>\n",
       "    <tr>\n",
       "      <th>5</th>\n",
       "      <td>  4</td>\n",
       "      <td>  3</td>\n",
       "      <td>NaN</td>\n",
       "      <td>NaN</td>\n",
       "      <td>NaN</td>\n",
       "      <td>NaN</td>\n",
       "      <td>NaN</td>\n",
       "      <td>NaN</td>\n",
       "      <td>NaN</td>\n",
       "      <td>NaN</td>\n",
       "      <td>...</td>\n",
       "      <td>NaN</td>\n",
       "      <td>NaN</td>\n",
       "      <td>NaN</td>\n",
       "      <td>NaN</td>\n",
       "      <td>NaN</td>\n",
       "      <td>NaN</td>\n",
       "      <td>NaN</td>\n",
       "      <td>NaN</td>\n",
       "      <td>NaN</td>\n",
       "      <td>NaN</td>\n",
       "    </tr>\n",
       "  </tbody>\n",
       "</table>\n",
       "<p>5 rows × 1682 columns</p>\n",
       "</div>"
      ],
      "text/plain": [
       "item  1     2     3     4     5     6     7     8     9     10    ...   1673  \\\n",
       "user                                                              ...          \n",
       "1        5     3     4     3     3     5     4     1     5     3  ...    NaN   \n",
       "2        4   NaN   NaN   NaN   NaN   NaN   NaN   NaN   NaN     2  ...    NaN   \n",
       "3      NaN   NaN   NaN   NaN   NaN   NaN   NaN   NaN   NaN   NaN  ...    NaN   \n",
       "4      NaN   NaN   NaN   NaN   NaN   NaN   NaN   NaN   NaN   NaN  ...    NaN   \n",
       "5        4     3   NaN   NaN   NaN   NaN   NaN   NaN   NaN   NaN  ...    NaN   \n",
       "\n",
       "item  1674  1675  1676  1677  1678  1679  1680  1681  1682  \n",
       "user                                                        \n",
       "1      NaN   NaN   NaN   NaN   NaN   NaN   NaN   NaN   NaN  \n",
       "2      NaN   NaN   NaN   NaN   NaN   NaN   NaN   NaN   NaN  \n",
       "3      NaN   NaN   NaN   NaN   NaN   NaN   NaN   NaN   NaN  \n",
       "4      NaN   NaN   NaN   NaN   NaN   NaN   NaN   NaN   NaN  \n",
       "5      NaN   NaN   NaN   NaN   NaN   NaN   NaN   NaN   NaN  \n",
       "\n",
       "[5 rows x 1682 columns]"
      ]
     },
     "execution_count": 81,
     "metadata": {},
     "output_type": "execute_result"
    }
   ],
   "source": [
    "dense_matrix = df_data1.pivot_table(values=\"rating\", index=[\"user\"], columns=[\"item\"], aggfunc=np.sum)\n",
    "print \"Shape of the user-item matrix: %d x %d\" % dense_matrix.shape\n",
    "dense_matrix.head()"
   ]
  },
  {
   "cell_type": "markdown",
   "metadata": {},
   "source": [
    "NaN stands for \"Not a Number\", which usually mean missing value."
   ]
  },
  {
   "cell_type": "markdown",
   "metadata": {},
   "source": [
    "The dense_matrix object is a Pandas data frame. The row indexes are user numbers (integer) and the column names are the item numbers (integer). <br>\n",
    "User is not a column in this data frame, instead, it is the row index."
   ]
  },
  {
   "cell_type": "code",
   "execution_count": 41,
   "metadata": {
    "collapsed": false
   },
   "outputs": [
    {
     "data": {
      "text/plain": [
       "user\n",
       "1        4\n",
       "2      NaN\n",
       "3      NaN\n",
       "4      NaN\n",
       "5      NaN\n",
       "6      NaN\n",
       "7      NaN\n",
       "8      NaN\n",
       "9      NaN\n",
       "10     NaN\n",
       "11     NaN\n",
       "12     NaN\n",
       "13     NaN\n",
       "14     NaN\n",
       "15     NaN\n",
       "...\n",
       "929    NaN\n",
       "930    NaN\n",
       "931    NaN\n",
       "932    NaN\n",
       "933    NaN\n",
       "934    NaN\n",
       "935    NaN\n",
       "936      4\n",
       "937    NaN\n",
       "938    NaN\n",
       "939    NaN\n",
       "940    NaN\n",
       "941    NaN\n",
       "942    NaN\n",
       "943    NaN\n",
       "Name: 3, Length: 943, dtype: float64"
      ]
     },
     "execution_count": 41,
     "metadata": {},
     "output_type": "execute_result"
    }
   ],
   "source": [
    "# return all ratings for Item 3\n",
    "# access a column using the column name\n",
    "dense_matrix[3]"
   ]
  },
  {
   "cell_type": "code",
   "execution_count": 42,
   "metadata": {
    "collapsed": false
   },
   "outputs": [
    {
     "data": {
      "text/plain": [
       "item\n",
       "1        4\n",
       "2      NaN\n",
       "3      NaN\n",
       "4      NaN\n",
       "5      NaN\n",
       "6      NaN\n",
       "7      NaN\n",
       "8      NaN\n",
       "9      NaN\n",
       "10       2\n",
       "11     NaN\n",
       "12     NaN\n",
       "13       4\n",
       "14       4\n",
       "15     NaN\n",
       "...\n",
       "1668   NaN\n",
       "1669   NaN\n",
       "1670   NaN\n",
       "1671   NaN\n",
       "1672   NaN\n",
       "1673   NaN\n",
       "1674   NaN\n",
       "1675   NaN\n",
       "1676   NaN\n",
       "1677   NaN\n",
       "1678   NaN\n",
       "1679   NaN\n",
       "1680   NaN\n",
       "1681   NaN\n",
       "1682   NaN\n",
       "Name: 2, Length: 1682, dtype: float64"
      ]
     },
     "execution_count": 42,
     "metadata": {},
     "output_type": "execute_result"
    }
   ],
   "source": [
    "# return all ratings by User 2\n",
    "# access a row using the row index\n",
    "\"\"\"\n",
    "This is not to be confused with DataFrame.iloc[].\n",
    "loc locates a row using its index.\n",
    "iloc locates a row using its position.\n",
    "A row with an index of 1 maybe the 4th row of a data frame.\n",
    "\"\"\"\n",
    "dense_matrix.loc[2]"
   ]
  },
  {
   "cell_type": "code",
   "execution_count": 43,
   "metadata": {
    "collapsed": false
   },
   "outputs": [
    {
     "data": {
      "text/plain": [
       "4.0"
      ]
     },
     "execution_count": 43,
     "metadata": {},
     "output_type": "execute_result"
    }
   ],
   "source": [
    "# retrieve the rating of User 2 on Item 1\n",
    "# the first index is the column index (item)\n",
    "# the second index is the row index (user)\n",
    "dense_matrix[1][2]"
   ]
  },
  {
   "cell_type": "code",
   "execution_count": 44,
   "metadata": {
    "collapsed": false
   },
   "outputs": [
    {
     "data": {
      "text/plain": [
       "3.2061068702290076"
      ]
     },
     "execution_count": 44,
     "metadata": {},
     "output_type": "execute_result"
    }
   ],
   "source": [
    "# the mean rating of Item 2\n",
    "dense_matrix[2].mean()"
   ]
  },
  {
   "cell_type": "code",
   "execution_count": 45,
   "metadata": {
    "collapsed": false
   },
   "outputs": [
    {
     "data": {
      "text/plain": [
       "272"
      ]
     },
     "execution_count": 45,
     "metadata": {},
     "output_type": "execute_result"
    }
   ],
   "source": [
    "# the iloc method returns a row from a data frame based on a row index\n",
    "user1_ratings = dense_matrix.loc[1]\n",
    "# the isnull() method of a pandas series checks each value to see if it is null (NaN)\n",
    "user1_ratings.notnull()\n",
    "# the following line selects values user1_ratings that are not null\n",
    "user1_not_null = user1_ratings[user1_ratings.notnull()]\n",
    "# print the number of item (non-missing ratings) rated by User 1\n",
    "len(user1_not_null)"
   ]
  },
  {
   "cell_type": "markdown",
   "metadata": {},
   "source": [
    "### Replace missing rating with 0s"
   ]
  },
  {
   "cell_type": "markdown",
   "metadata": {},
   "source": [
    "Missing values (NaN) usually cannot be used in numerical calculations"
   ]
  },
  {
   "cell_type": "code",
   "execution_count": 126,
   "metadata": {
    "collapsed": false
   },
   "outputs": [
    {
     "data": {
      "text/html": [
       "<div style=\"max-height:1000px;max-width:1500px;overflow:auto;\">\n",
       "<table border=\"1\" class=\"dataframe\">\n",
       "  <thead>\n",
       "    <tr style=\"text-align: right;\">\n",
       "      <th>item</th>\n",
       "      <th>1</th>\n",
       "      <th>2</th>\n",
       "      <th>3</th>\n",
       "      <th>4</th>\n",
       "      <th>5</th>\n",
       "      <th>6</th>\n",
       "      <th>7</th>\n",
       "      <th>8</th>\n",
       "      <th>9</th>\n",
       "      <th>10</th>\n",
       "      <th>...</th>\n",
       "      <th>1673</th>\n",
       "      <th>1674</th>\n",
       "      <th>1675</th>\n",
       "      <th>1676</th>\n",
       "      <th>1677</th>\n",
       "      <th>1678</th>\n",
       "      <th>1679</th>\n",
       "      <th>1680</th>\n",
       "      <th>1681</th>\n",
       "      <th>1682</th>\n",
       "    </tr>\n",
       "    <tr>\n",
       "      <th>user</th>\n",
       "      <th></th>\n",
       "      <th></th>\n",
       "      <th></th>\n",
       "      <th></th>\n",
       "      <th></th>\n",
       "      <th></th>\n",
       "      <th></th>\n",
       "      <th></th>\n",
       "      <th></th>\n",
       "      <th></th>\n",
       "      <th></th>\n",
       "      <th></th>\n",
       "      <th></th>\n",
       "      <th></th>\n",
       "      <th></th>\n",
       "      <th></th>\n",
       "      <th></th>\n",
       "      <th></th>\n",
       "      <th></th>\n",
       "      <th></th>\n",
       "      <th></th>\n",
       "    </tr>\n",
       "  </thead>\n",
       "  <tbody>\n",
       "    <tr>\n",
       "      <th>1</th>\n",
       "      <td> 5</td>\n",
       "      <td> 3</td>\n",
       "      <td> 4</td>\n",
       "      <td> 3</td>\n",
       "      <td> 3</td>\n",
       "      <td> 5</td>\n",
       "      <td> 4</td>\n",
       "      <td> 1</td>\n",
       "      <td> 5</td>\n",
       "      <td> 3</td>\n",
       "      <td>...</td>\n",
       "      <td> 0</td>\n",
       "      <td> 0</td>\n",
       "      <td> 0</td>\n",
       "      <td> 0</td>\n",
       "      <td> 0</td>\n",
       "      <td> 0</td>\n",
       "      <td> 0</td>\n",
       "      <td> 0</td>\n",
       "      <td> 0</td>\n",
       "      <td> 0</td>\n",
       "    </tr>\n",
       "    <tr>\n",
       "      <th>2</th>\n",
       "      <td> 4</td>\n",
       "      <td> 0</td>\n",
       "      <td> 0</td>\n",
       "      <td> 0</td>\n",
       "      <td> 0</td>\n",
       "      <td> 0</td>\n",
       "      <td> 0</td>\n",
       "      <td> 0</td>\n",
       "      <td> 0</td>\n",
       "      <td> 2</td>\n",
       "      <td>...</td>\n",
       "      <td> 0</td>\n",
       "      <td> 0</td>\n",
       "      <td> 0</td>\n",
       "      <td> 0</td>\n",
       "      <td> 0</td>\n",
       "      <td> 0</td>\n",
       "      <td> 0</td>\n",
       "      <td> 0</td>\n",
       "      <td> 0</td>\n",
       "      <td> 0</td>\n",
       "    </tr>\n",
       "    <tr>\n",
       "      <th>3</th>\n",
       "      <td> 0</td>\n",
       "      <td> 0</td>\n",
       "      <td> 0</td>\n",
       "      <td> 0</td>\n",
       "      <td> 0</td>\n",
       "      <td> 0</td>\n",
       "      <td> 0</td>\n",
       "      <td> 0</td>\n",
       "      <td> 0</td>\n",
       "      <td> 0</td>\n",
       "      <td>...</td>\n",
       "      <td> 0</td>\n",
       "      <td> 0</td>\n",
       "      <td> 0</td>\n",
       "      <td> 0</td>\n",
       "      <td> 0</td>\n",
       "      <td> 0</td>\n",
       "      <td> 0</td>\n",
       "      <td> 0</td>\n",
       "      <td> 0</td>\n",
       "      <td> 0</td>\n",
       "    </tr>\n",
       "    <tr>\n",
       "      <th>4</th>\n",
       "      <td> 0</td>\n",
       "      <td> 0</td>\n",
       "      <td> 0</td>\n",
       "      <td> 0</td>\n",
       "      <td> 0</td>\n",
       "      <td> 0</td>\n",
       "      <td> 0</td>\n",
       "      <td> 0</td>\n",
       "      <td> 0</td>\n",
       "      <td> 0</td>\n",
       "      <td>...</td>\n",
       "      <td> 0</td>\n",
       "      <td> 0</td>\n",
       "      <td> 0</td>\n",
       "      <td> 0</td>\n",
       "      <td> 0</td>\n",
       "      <td> 0</td>\n",
       "      <td> 0</td>\n",
       "      <td> 0</td>\n",
       "      <td> 0</td>\n",
       "      <td> 0</td>\n",
       "    </tr>\n",
       "    <tr>\n",
       "      <th>5</th>\n",
       "      <td> 4</td>\n",
       "      <td> 3</td>\n",
       "      <td> 0</td>\n",
       "      <td> 0</td>\n",
       "      <td> 0</td>\n",
       "      <td> 0</td>\n",
       "      <td> 0</td>\n",
       "      <td> 0</td>\n",
       "      <td> 0</td>\n",
       "      <td> 0</td>\n",
       "      <td>...</td>\n",
       "      <td> 0</td>\n",
       "      <td> 0</td>\n",
       "      <td> 0</td>\n",
       "      <td> 0</td>\n",
       "      <td> 0</td>\n",
       "      <td> 0</td>\n",
       "      <td> 0</td>\n",
       "      <td> 0</td>\n",
       "      <td> 0</td>\n",
       "      <td> 0</td>\n",
       "    </tr>\n",
       "  </tbody>\n",
       "</table>\n",
       "<p>5 rows × 1682 columns</p>\n",
       "</div>"
      ],
      "text/plain": [
       "item  1     2     3     4     5     6     7     8     9     10    ...   1673  \\\n",
       "user                                                              ...          \n",
       "1        5     3     4     3     3     5     4     1     5     3  ...      0   \n",
       "2        4     0     0     0     0     0     0     0     0     2  ...      0   \n",
       "3        0     0     0     0     0     0     0     0     0     0  ...      0   \n",
       "4        0     0     0     0     0     0     0     0     0     0  ...      0   \n",
       "5        4     3     0     0     0     0     0     0     0     0  ...      0   \n",
       "\n",
       "item  1674  1675  1676  1677  1678  1679  1680  1681  1682  \n",
       "user                                                        \n",
       "1        0     0     0     0     0     0     0     0     0  \n",
       "2        0     0     0     0     0     0     0     0     0  \n",
       "3        0     0     0     0     0     0     0     0     0  \n",
       "4        0     0     0     0     0     0     0     0     0  \n",
       "5        0     0     0     0     0     0     0     0     0  \n",
       "\n",
       "[5 rows x 1682 columns]"
      ]
     },
     "execution_count": 126,
     "metadata": {},
     "output_type": "execute_result"
    }
   ],
   "source": [
    "dense_matrix = dense_matrix.fillna(0)\n",
    "dense_matrix.head()"
   ]
  },
  {
   "cell_type": "markdown",
   "metadata": {},
   "source": [
    "#### Examine the distribution of the number of ratings for each item"
   ]
  },
  {
   "cell_type": "code",
   "execution_count": 47,
   "metadata": {
    "collapsed": false
   },
   "outputs": [
    {
     "data": {
      "image/png": "[encoded data removed]",
      "text/plain": [
       "<matplotlib.figure.Figure at 0x189ac630>"
      ]
     },
     "metadata": {},
     "output_type": "display_data"
    }
   ],
   "source": [
    "# count the non-zero elements for each column (item)\n",
    "rating_counts_by_item = dense_matrix.apply(np.count_nonzero, axis=0)\n",
    "\n",
    "# plot a histogram\n",
    "import matplotlib.pyplot as plt\n",
    "plt.hist(rating_counts_by_item.values, bins=100)\n",
    "plt.ylabel(\"Number of items\")\n",
    "plt.xlabel(\"Number of ratings\")\n",
    "plt.show()"
   ]
  },
  {
   "cell_type": "markdown",
   "metadata": {},
   "source": [
    "The histogram above shows a long-tail distribution:\n",
    "<li>The majority of items were not rated by many users (the fisrt a few bins from the left)</li>\n",
    "<li>Only a few most popular items have a large number of ratings (bins from the right)</li>"
   ]
  },
  {
   "cell_type": "code",
   "execution_count": 48,
   "metadata": {
    "collapsed": false
   },
   "outputs": [
    {
     "data": {
      "image/png": "[encoded data removed]",
      "text/plain": [
       "<matplotlib.figure.Figure at 0x18f35c50>"
      ]
     },
     "metadata": {},
     "output_type": "display_data"
    }
   ],
   "source": [
    "# count the non-zero elements for each row (user)\n",
    "rating_counts_by_user = dense_matrix.apply(np.count_nonzero, axis=1)\n",
    "\n",
    "# plot a histogram\n",
    "import matplotlib.pyplot as plt\n",
    "plt.hist(rating_counts_by_user.values, bins=100)\n",
    "plt.ylabel(\"Number of items\")\n",
    "plt.xlabel(\"Number of ratings\")\n",
    "plt.show()"
   ]
  },
  {
   "cell_type": "markdown",
   "metadata": {},
   "source": [
    "The histogram above shows a long-tail distribution:\n",
    "<li>The majority of user only rated a few (the fisrt a few bins from the left)</li>\n",
    "<li>Only a few user have rated a large number of items (bins from the right)</li>"
   ]
  },
  {
   "cell_type": "markdown",
   "metadata": {},
   "source": [
    "### Calculating Similarity"
   ]
  },
  {
   "cell_type": "markdown",
   "metadata": {},
   "source": [
    "<b>Correlation Distance</b> (i.e. 1 - Pearson Correlation, less distance = more similar)<br>\n",
    "http://docs.scipy.org/doc/scipy-0.15.1/reference/generated/scipy.spatial.distance.correlation.html#scipy.spatial.distance.correlation"
   ]
  },
  {
   "cell_type": "code",
   "execution_count": 49,
   "metadata": {
    "collapsed": false
   },
   "outputs": [
    {
     "data": {
      "text/plain": [
       "8.3044682241961709e-14"
      ]
     },
     "execution_count": 49,
     "metadata": {},
     "output_type": "execute_result"
    }
   ],
   "source": [
    "# a user's correlation distance to itself (virtually 0)\n",
    "correlation(dense_matrix.loc[1], dense_matrix.loc[1])"
   ]
  },
  {
   "cell_type": "markdown",
   "metadata": {},
   "source": [
    "Correlation distance between Users 1 and 2"
   ]
  },
  {
   "cell_type": "code",
   "execution_count": 50,
   "metadata": {
    "collapsed": false
   },
   "outputs": [
    {
     "data": {
      "text/plain": [
       "0.89367807026442214"
      ]
     },
     "execution_count": 50,
     "metadata": {},
     "output_type": "execute_result"
    }
   ],
   "source": [
    "correlation(dense_matrix.loc[1], dense_matrix.loc[2])"
   ]
  },
  {
   "cell_type": "markdown",
   "metadata": {},
   "source": [
    "Correlation distance between Items 100 and 200"
   ]
  },
  {
   "cell_type": "code",
   "execution_count": 51,
   "metadata": {
    "collapsed": false
   },
   "outputs": [
    {
     "data": {
      "text/plain": [
       "0.73598407589418691"
      ]
     },
     "execution_count": 51,
     "metadata": {},
     "output_type": "execute_result"
    }
   ],
   "source": [
    "correlation(dense_matrix[100], dense_matrix[200])"
   ]
  },
  {
   "cell_type": "markdown",
   "metadata": {},
   "source": [
    "<b>Cosine Distance</b> <br>\n",
    "http://docs.scipy.org/doc/scipy-0.15.1/reference/generated/scipy.spatial.distance.cosine.html#scipy.spatial.distance.cosine\n",
    "    "
   ]
  },
  {
   "cell_type": "code",
   "execution_count": 52,
   "metadata": {
    "collapsed": false
   },
   "outputs": [
    {
     "data": {
      "text/plain": [
       "-1.3322676295501878e-15"
      ]
     },
     "execution_count": 52,
     "metadata": {},
     "output_type": "execute_result"
    }
   ],
   "source": [
    "# a user's cosine distance to itself (virtually 0)\n",
    "cosine(dense_matrix.loc[1], dense_matrix.loc[1])"
   ]
  },
  {
   "cell_type": "code",
   "execution_count": 53,
   "metadata": {
    "collapsed": false
   },
   "outputs": [
    {
     "data": {
      "text/plain": [
       "0.83306901613129791"
      ]
     },
     "execution_count": 53,
     "metadata": {},
     "output_type": "execute_result"
    }
   ],
   "source": [
    "cosine(dense_matrix.loc[1], dense_matrix.loc[2])"
   ]
  },
  {
   "cell_type": "code",
   "execution_count": 54,
   "metadata": {
    "collapsed": false
   },
   "outputs": [
    {
     "data": {
      "text/plain": [
       "0.5976178217003898"
      ]
     },
     "execution_count": 54,
     "metadata": {},
     "output_type": "execute_result"
    }
   ],
   "source": [
    "cosine(dense_matrix[1], dense_matrix[2])"
   ]
  },
  {
   "cell_type": "markdown",
   "metadata": {},
   "source": [
    "<b>Euclidean Distance</b><br>\n",
    "http://docs.scipy.org/doc/scipy-0.15.1/reference/generated/scipy.spatial.distance.euclidean.html#scipy.spatial.distance.euclidean"
   ]
  },
  {
   "cell_type": "code",
   "execution_count": 55,
   "metadata": {
    "collapsed": false
   },
   "outputs": [
    {
     "data": {
      "text/plain": [
       "0.0"
      ]
     },
     "execution_count": 55,
     "metadata": {},
     "output_type": "execute_result"
    }
   ],
   "source": [
    "# a user's Euclidean distance to itself (0)\n",
    "euclidean(dense_matrix.loc[1], dense_matrix.loc[1])"
   ]
  },
  {
   "cell_type": "code",
   "execution_count": 56,
   "metadata": {
    "collapsed": false
   },
   "outputs": [
    {
     "data": {
      "text/plain": [
       "65.25335240430174"
      ]
     },
     "execution_count": 56,
     "metadata": {},
     "output_type": "execute_result"
    }
   ],
   "source": [
    "euclidean(dense_matrix.loc[1], dense_matrix.loc[2])"
   ]
  },
  {
   "cell_type": "code",
   "execution_count": 57,
   "metadata": {
    "collapsed": false
   },
   "outputs": [
    {
     "data": {
      "text/plain": [
       "77.72387020729207"
      ]
     },
     "execution_count": 57,
     "metadata": {},
     "output_type": "execute_result"
    }
   ],
   "source": [
    "euclidean(dense_matrix[1], dense_matrix[2])"
   ]
  },
  {
   "cell_type": "markdown",
   "metadata": {},
   "source": [
    "### Finding the K most similar items/user to a given item/user"
   ]
  },
  {
   "cell_type": "markdown",
   "metadata": {},
   "source": [
    "#### Using Euclidean distance"
   ]
  },
  {
   "cell_type": "code",
   "execution_count": 58,
   "metadata": {
    "collapsed": false
   },
   "outputs": [],
   "source": [
    "# define a functions, which takes the given item number (integer) as the input and returns the top K similar items (in a data frame)\n",
    "def top_k_items(item_number, k):\n",
    "    # copy the dense matrix and transpose it so each row represents an item\n",
    "    df_sim = dense_matrix.transpose()\n",
    "    # remove the active item \n",
    "    df_sim = df_sim.loc[df_sim.index != item_number]\n",
    "    # calculate the distance between the given item for each row (apply the function to each row if axis = 1)\n",
    "    df_sim[\"distance\"] = df_sim.apply(lambda x: euclidean(dense_matrix[item_number], x), axis=1)\n",
    "    # return the top k from the sorted distances\n",
    "    return df_sim.sort(\"distance\").head(k)[\"distance\"]   "
   ]
  },
  {
   "cell_type": "code",
   "execution_count": 59,
   "metadata": {
    "collapsed": false
   },
   "outputs": [
    {
     "data": {
      "text/plain": [
       "item\n",
       "121     63.529521\n",
       "405     65.764732\n",
       "117     65.840717\n",
       "151     66.835619\n",
       "118     67.535176\n",
       "Name: distance, dtype: float64"
      ]
     },
     "execution_count": 59,
     "metadata": {},
     "output_type": "execute_result"
    }
   ],
   "source": [
    "# retrieve top five similar items to Item 1\n",
    "top_k_items(1, 5)"
   ]
  },
  {
   "cell_type": "code",
   "execution_count": 60,
   "metadata": {
    "collapsed": false
   },
   "outputs": [],
   "source": [
    "def top_k_users(user_number, k):\n",
    "    # no need to transpose the matrix this time because the rows already represent users\n",
    "    # remove the active user\n",
    "    df_sim = dense_matrix.loc[dense_matrix.index != user_number]\n",
    "    # calculate the distance for between the given user and each row\n",
    "    df_sim[\"distance\"] = df_sim.apply(lambda x: euclidean(dense_matrix.loc[user_number], x), axis=1)\n",
    "    # return the top k from the sorted distances\n",
    "    return df_sim.sort(\"distance\").head(k)[\"distance\"] "
   ]
  },
  {
   "cell_type": "code",
   "execution_count": 62,
   "metadata": {
    "collapsed": false
   },
   "outputs": [
    {
     "data": {
      "text/plain": [
       "user\n",
       "317     20.952327\n",
       "656     21.354157\n",
       "335     21.424285\n",
       "920     21.424285\n",
       "155     21.840330\n",
       "Name: distance, dtype: float64"
      ]
     },
     "execution_count": 62,
     "metadata": {},
     "output_type": "execute_result"
    }
   ],
   "source": [
    "# retrieve top five similar users to User 3\n",
    "top_k_users(3, 5)"
   ]
  },
  {
   "cell_type": "markdown",
   "metadata": {},
   "source": [
    "#### K Nearest Neighbors Algorithm"
   ]
  },
  {
   "cell_type": "code",
   "execution_count": 63,
   "metadata": {
    "collapsed": false
   },
   "outputs": [
    {
     "name": "stdout",
     "output_type": "stream",
     "text": [
      "317 20.9523268398\n",
      "656 21.3541565041\n",
      "335 21.4242852856\n",
      "920 21.4242852856\n",
      "155 21.8403296678\n"
     ]
    }
   ],
   "source": [
    "from sklearn.neighbors import NearestNeighbors\n",
    "# create an instance of the learner and specify it to use Euclidean distance\n",
    "nbrs = NearestNeighbors(metric=\"euclidean\")\n",
    "# fit the learner using all user ratings except for User 3\n",
    "nbrs.fit(dense_matrix.loc[dense_matrix.index != 3])\n",
    "# the learner returns the distances and locations of the 5 nearest neighbors of User 3\n",
    "distances, locs = nbrs.kneighbors(dense_matrix.loc[3], 5)\n",
    "# retrieve these neighbors from the user-item matrix based on the locations\n",
    "sim_users = dense_matrix.loc[dense_matrix.index != 3].iloc[locs.ravel()].index\n",
    "# print the user indexes and the distances\n",
    "for sim_user, dist in zip(sim_users, distances.ravel()):\n",
    "    print sim_user, dist\n",
    "# the ravel method is used to unpack list of lists"
   ]
  },
  {
   "cell_type": "markdown",
   "metadata": {},
   "source": [
    "### Partitioning the data for cross validation"
   ]
  },
  {
   "cell_type": "markdown",
   "metadata": {},
   "source": [
    "70% of the users are used for training; 30% of the users are used for testing."
   ]
  },
  {
   "cell_type": "markdown",
   "metadata": {},
   "source": [
    "#### We will conduct cross validation to predict user ratings for Item 151"
   ]
  },
  {
   "cell_type": "code",
   "execution_count": 93,
   "metadata": {
    "collapsed": false
   },
   "outputs": [
    {
     "data": {
      "text/plain": [
       "4    108\n",
       "3     85\n",
       "5     81\n",
       "2     40\n",
       "1     12\n",
       "dtype: int64"
      ]
     },
     "execution_count": 93,
     "metadata": {},
     "output_type": "execute_result"
    }
   ],
   "source": [
    "dense_matrix[151].value_counts()"
   ]
  },
  {
   "cell_type": "code",
   "execution_count": 103,
   "metadata": {
    "collapsed": false
   },
   "outputs": [
    {
     "name": "stdout",
     "output_type": "stream",
     "text": [
      "(943, 1681)\n",
      "(943, 1)\n"
     ]
    }
   ],
   "source": []
  },
  {
   "cell_type": "markdown",
   "metadata": {},
   "source": [
    "### Partition for cross validation"
   ]
  },
  {
   "cell_type": "code",
   "execution_count": 128,
   "metadata": {
    "collapsed": false
   },
   "outputs": [
    {
     "name": "stdout",
     "output_type": "stream",
     "text": [
      "(943, 1681)\n",
      "(943, 1)\n",
      "shapes\n",
      "(660, 1681)\n",
      "(283, 1681)\n",
      "(660, 1)\n",
      "(283, 1)\n",
      "\n",
      "class counts\n",
      "0    416\n",
      "4     78\n",
      "3     65\n",
      "5     63\n",
      "2     28\n",
      "1     10\n",
      "dtype: int64\n",
      "0    201\n",
      "4     30\n",
      "3     20\n",
      "5     18\n",
      "2     12\n",
      "1      2\n",
      "dtype: int64\n"
     ]
    }
   ],
   "source": [
    "from sklearn.cross_validation import train_test_split\n",
    "\n",
    "# create a data frame for the predictors\n",
    "df_x = dense_matrix[[col for col in dense_matrix.columns if col != 151]]\n",
    "print df_x.shape\n",
    "\n",
    "# create a series for the outcome\n",
    "df_y = dense_matrix[[151]]\n",
    "print df_y.shape\n",
    "\n",
    "\n",
    "train_x, test_x, train_y, test_y = train_test_split(df_x, df_y, test_size=0.3, random_state=0)\n",
    "df_train_x = pd.DataFrame(train_x, columns=df_x.columns)\n",
    "df_test_x = pd.DataFrame(test_x, columns=df_x.columns)\n",
    "df_train_y = pd.DataFrame(train_y, columns=[151])\n",
    "df_test_y = pd.DataFrame(test_y, columns=[151])\n",
    "print \"shapes\"\n",
    "print df_train_x.shape\n",
    "print df_test_x.shape\n",
    "print df_train_y.shape\n",
    "print df_test_y.shape\n",
    "print \n",
    "print \"class counts\"\n",
    "print df_train_y[151].value_counts()\n",
    "print df_test_y[151].value_counts()"
   ]
  },
  {
   "cell_type": "markdown",
   "metadata": {},
   "source": [
    "### Creat a function for user-based prediction<br><img height=\"100\" width=\"120  \"src=\"https://www.dropbox.com/s/cm3fizuony0upbd/user_formula.png?dl=1\" align=\"left\" >"
   ]
  },
  {
   "cell_type": "code",
   "execution_count": 156,
   "metadata": {
    "collapsed": false
   },
   "outputs": [],
   "source": [
    "# specify the number of similar users to retrieve\n",
    "k = 5\n",
    "\n",
    "def user_based_predict(user_number):\n",
    "    # retrieve the top k similar users\n",
    "    \n",
    "    # copy from all the training predictors\n",
    "    df_sim = df_train_x.copy()\n",
    "    # for each user, calculate the distance between this user and the active user\n",
    "    df_sim[\"distance\"] = df_sim.apply(lambda x: euclidean(df_test_x.loc[user_number], x), axis=1)\n",
    "    # create a new data frame to store the top k similar users\n",
    "    df_sim_users = df_sim.loc[df_sim.sort(\"distance\").head(k).index]\n",
    "    \n",
    "    # calculate these similar users' rating on 151, weighted by distance\n",
    "    df_sim_users[\"weighed_d\"] = map(lambda x: df_sim_users.loc[x][\"distance\"]*df_train_y.loc[x][151], df_sim_users.index)\n",
    "    predicted = df_sim_users[\"weighed_d\"].sum()/df_sim_users[\"distance\"].sum()\n",
    "    \n",
    "    return predicted"
   ]
  },
  {
   "cell_type": "markdown",
   "metadata": {},
   "source": [
    "#### Predict a single user"
   ]
  },
  {
   "cell_type": "code",
   "execution_count": 171,
   "metadata": {
    "collapsed": false
   },
   "outputs": [
    {
     "name": "stdout",
     "output_type": "stream",
     "text": [
      "This user's rating on other items:  item\n",
      "1       3\n",
      "2       0\n",
      "3       0\n",
      "4       0\n",
      "5       0\n",
      "6       0\n",
      "7       4\n",
      "8       0\n",
      "9       0\n",
      "10      0\n",
      "11      4\n",
      "12      0\n",
      "13      0\n",
      "14      0\n",
      "15      3\n",
      "...\n",
      "1668    0\n",
      "1669    0\n",
      "1670    0\n",
      "1671    0\n",
      "1672    0\n",
      "1673    0\n",
      "1674    0\n",
      "1675    0\n",
      "1676    0\n",
      "1677    0\n",
      "1678    0\n",
      "1679    0\n",
      "1680    0\n",
      "1681    0\n",
      "1682    0\n",
      "Name: 5, Length: 1681, dtype: float64\n",
      "\n",
      "Predicted rating on Item 151: 1.00062093407\n",
      "True rating on Item 151:      0.0\n"
     ]
    }
   ],
   "source": [
    "uid = df_test_x.index[5]\n",
    "print \"This user's rating on other items: \", df_test_x.loc[uid]\n",
    "print\n",
    "print \"Predicted rating on Item 151:\", user_based_predict(uid)\n",
    "print \"True rating on Item 151:     \", df_test_y.loc[uid][151]"
   ]
  },
  {
   "cell_type": "markdown",
   "metadata": {},
   "source": [
    "#### Predict all testing data"
   ]
  },
  {
   "cell_type": "code",
   "execution_count": 211,
   "metadata": {
    "collapsed": false
   },
   "outputs": [
    {
     "name": "stdout",
     "output_type": "stream",
     "text": [
      "Number of ratings predicted: 283\n",
      "Wall time: 27.1 s\n"
     ]
    }
   ],
   "source": [
    "%%time\n",
    "pred_151 = map(user_based_predict, df_test_x.index)\n",
    "print \"Number of ratings predicted: %d\" % len(pred_151)"
   ]
  },
  {
   "cell_type": "markdown",
   "metadata": {},
   "source": [
    "#### Calculate prediction performance metrics"
   ]
  },
  {
   "cell_type": "code",
   "execution_count": 210,
   "metadata": {
    "collapsed": false
   },
   "outputs": [
    {
     "name": "stdout",
     "output_type": "stream",
     "text": [
      "Mean Absolute Error:  0.946269649833\n",
      "Wall time: 0 ns\n"
     ]
    }
   ],
   "source": [
    "from sklearn.metrics import mean_absolute_error\n",
    "print \"Mean Absolute Error: \", mean_absolute_error(pred_151, df_test_y[151])"
   ]
  },
  {
   "cell_type": "markdown",
   "metadata": {},
   "source": [
    "You expect to make a error of 0.95 out of the 5-point rating scale. Not too bad. But not too accurate, either."
   ]
  },
  {
   "cell_type": "markdown",
   "metadata": {},
   "source": [
    "<b>What if we try a simple model-based approach?</b>\n",
    "<p>\n",
    "<li>The predictors are the user's rating on items other than 151</li>\n",
    "<li>The outcome is the rating on 151</li>\n",
    "<li>We train a linear regression model using the training predictors and outcome </li>\n",
    "<li>We use this model to predict the user ratings on 151 in the testing set</li>\n",
    "</p>"
   ]
  },
  {
   "cell_type": "code",
   "execution_count": 206,
   "metadata": {
    "collapsed": false
   },
   "outputs": [
    {
     "name": "stdout",
     "output_type": "stream",
     "text": [
      "Mean Absolute Error:  1.99102801822\n"
     ]
    }
   ],
   "source": [
    "from sklearn.linear_model import LinearRegression\n",
    "linreg = LinearRegression()\n",
    "linreg.fit(train_x, train_y)\n",
    "pred_y = linreg.predict(test_x)\n",
    "print \"Mean Absolute Error: \", mean_absolute_error(pred_y, test_y)"
   ]
  },
  {
   "cell_type": "markdown",
   "metadata": {},
   "source": [
    "The MAE is twice as big as that of the item-based collaborative filtering <br>\n",
    "This indicates that using only the most similar users for predict is helpful.<br>\n",
    "Besides, linear regression is not robust to high-dimentional data.<br>\n",
    "The number of the instances is much lower than the number of features, which leads to severe overfitting."
   ]
  },
  {
   "cell_type": "code",
   "execution_count": 207,
   "metadata": {
    "collapsed": false
   },
   "outputs": [
    {
     "name": "stdout",
     "output_type": "stream",
     "text": [
      "Mean Absolute Error:  1.41947167243\n"
     ]
    }
   ],
   "source": [
    "from sklearn.linear_model import Lasso\n",
    "reg = Lasso()\n",
    "reg.fit(train_x, train_y)\n",
    "pred_y = reg.predict(test_x)\n",
    "print \"Mean Absolute Error: \", mean_absolute_error(pred_y, test_y)"
   ]
  },
  {
   "cell_type": "markdown",
   "metadata": {},
   "source": [
    "Enforcing L1-norm regularization using LASSO has improved the results"
   ]
  },
  {
   "cell_type": "code",
   "execution_count": 208,
   "metadata": {
    "collapsed": false
   },
   "outputs": [
    {
     "name": "stdout",
     "output_type": "stream",
     "text": [
      "Mean Absolute Error:  1.02557271524\n"
     ]
    }
   ],
   "source": [
    "from sklearn.svm import SVR\n",
    "reg = SVR()\n",
    "reg.fit(train_x, train_y.ravel())\n",
    "pred_y = reg.predict(test_x)\n",
    "print \"Mean Absolute Error: \", mean_absolute_error(pred_y, test_y)"
   ]
  },
  {
   "cell_type": "markdown",
   "metadata": {},
   "source": [
    "Using support vector regression with a non-linear kernel further improved the results"
   ]
  },
  {
   "cell_type": "code",
   "execution_count": 209,
   "metadata": {
    "collapsed": false
   },
   "outputs": [
    {
     "name": "stdout",
     "output_type": "stream",
     "text": [
      "Mean Absolute Error:  1.08021201413\n"
     ]
    }
   ],
   "source": [
    "from sklearn.ensemble import RandomForestRegressor\n",
    "reg = RandomForestRegressor()\n",
    "reg.fit(train_x, train_y.ravel())\n",
    "pred_y = reg.predict(test_x)\n",
    "print \"Mean Absolute Error: \", mean_absolute_error(pred_y, test_y)"
   ]
  },
  {
   "cell_type": "markdown",
   "metadata": {},
   "source": [
    "Random forest regressor is also robutest to high-dimentional data"
   ]
  },
  {
   "cell_type": "markdown",
   "metadata": {},
   "source": [
    "But the simple user-based collaborative filtering is still very competitive comparing these cutting edge machine learning models. <br> However, without more tests we cannot rely on this conclusion. At least a 10-fold cross validation need to be used."
   ]
  }
 ],
 "metadata": {
  "kernelspec": {
   "display_name": "Python 2",
   "language": "python",
   "name": "python2"
  },
  "language_info": {
   "codemirror_mode": {
    "name": "ipython",
    "version": 2
   },
   "file_extension": ".py",
   "mimetype": "text/x-python",
   "name": "python",
   "nbconvert_exporter": "python",
   "pygments_lexer": "ipython2",
   "version": "2.7.8"
  }
 },
 "nbformat": 4,
 "nbformat_minor": 0
}
